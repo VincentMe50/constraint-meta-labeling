{
 "cells": [
  {
   "cell_type": "code",
   "execution_count": 2,
   "metadata": {},
   "outputs": [],
   "source": [
    "import pandas as pd\n",
    "import numpy as np \n",
    "import multiprocessing as mp\n",
    "from multiprocessing import cpu_count\n",
    "from concurrent.futures import ProcessPoolExecutor\n",
    "import os\n",
    "import datetime\n",
    "import time\n",
    "import sys\n",
    "from typing import List\n",
    "\n"
   ]
  },
  {
   "cell_type": "markdown",
   "metadata": {},
   "source": [
    "读取数据（取最小行数）"
   ]
  },
  {
   "cell_type": "code",
   "execution_count": null,
   "metadata": {},
   "outputs": [
    {
     "name": "stdout",
     "output_type": "stream",
     "text": [
      "1878 4\n"
     ]
    }
   ],
   "source": [
    "datalist = []\n",
    "min_rows = float('inf') \n",
    "\n",
    "for filename in os.listdir(\"/home/yichuan/ywc/meta-labeling/cryptocurrency\"):\n",
    "    if filename.endswith('.csv'):\n",
    "        file_path = os.path.join(\"/home/yichuan/ywc/meta-labeling/cryptocurrency\", filename)\n",
    "        df = pd.read_csv(file_path)\n",
    "        df = df.drop(columns=[\"Date\"])\n",
    "        datalist.append(df.values)\n",
    "        min_rows = min(min_rows, df.shape[0])      \n",
    "\n",
    "data_list = [data[:min_rows] for data in datalist]\n",
    "\n",
    "print(min_rows,len(data_list))"
   ]
  },
  {
   "cell_type": "markdown",
   "metadata": {},
   "source": [
    "处理最后一列"
   ]
  },
  {
   "cell_type": "code",
   "execution_count": 4,
   "metadata": {},
   "outputs": [
    {
     "name": "stdout",
     "output_type": "stream",
     "text": [
      "[[ 0.21791101  0.221791    0.214866    0.21748801  0.21748801 -2.28482287]\n",
      " [ 0.218256    0.21906801  0.20525999  0.20648301  0.20648301 -2.33154956]\n",
      " [ 0.205948    0.21445601  0.205459    0.21043     0.21043    -2.37803102]\n",
      " ...\n",
      " [ 0.36812201  0.368543    0.35613599  0.35653099  0.35653099 -0.58243597]\n",
      " [ 0.35652399  0.357225    0.338911    0.34284601  0.34284601 -0.51650078]\n",
      " [ 0.34283099  0.34531301  0.33533299  0.34501699  0.34501699 -0.80060086]]\n"
     ]
    }
   ],
   "source": [
    "def logVolume(X: np.ndarray):\n",
    "    volume = X[:, -1]  \n",
    "    volume_log = np.log(volume + 1)  \n",
    "\n",
    "    mean_log = np.mean(volume_log)  \n",
    "    std_log = np.std(volume_log)  \n",
    "\n",
    "    volume_std = (volume_log - mean_log) / std_log  \n",
    "\n",
    "    X[:, -1] = volume_std  \n",
    "\n",
    "    return X\n",
    "\n",
    "\n",
    "for data in data_list:\n",
    "    data=logVolume(data)    \n",
    "\n",
    "print(data_list[1])"
   ]
  },
  {
   "cell_type": "markdown",
   "metadata": {},
   "source": [
    "创建标签函数"
   ]
  },
  {
   "cell_type": "code",
   "execution_count": 5,
   "metadata": {},
   "outputs": [],
   "source": [
    "\n",
    "days=10\n",
    "\n",
    "ptsl = [0.05, 0.05]  \n",
    "return_min = 0.005\n",
    "def triple_barrier(close: np.ndarray, days=10, pts=[0.05, 0.05] ):\n",
    "    bin = np.zeros(close.size, dtype=int)  \n",
    "    for i in range(close.size):\n",
    "        for d in range(days):\n",
    "            index = min(i + d + 1, close.size - 1)  \n",
    "            if close[index] >= close[i] * (1 + ptsl[0]):  \n",
    "                bin[i] = 1\n",
    "                break\n",
    "            elif close[index] <= close[i] * (1 - ptsl[1]):  \n",
    "                bin[i] = -1\n",
    "                break\n",
    "    \n",
    "    return bin\n",
    "\n",
    "\n"
   ]
  },
  {
   "cell_type": "code",
   "execution_count": 6,
   "metadata": {},
   "outputs": [
    {
     "name": "stdout",
     "output_type": "stream",
     "text": [
      "(1878,)\n"
     ]
    }
   ],
   "source": [
    "binmat=np.full((min_rows, 4), 3)\n",
    "for i in range(4):\n",
    "    binmat[:,i]=triple_barrier(data_list[i][:,3])\n",
    "\n",
    "label=np.mean(binmat, axis=1)\n",
    "print(label.shape)"
   ]
  },
  {
   "cell_type": "markdown",
   "metadata": {},
   "source": [
    "合并"
   ]
  },
  {
   "cell_type": "code",
   "execution_count": 7,
   "metadata": {},
   "outputs": [
    {
     "name": "stdout",
     "output_type": "stream",
     "text": [
      "(4, 1878, 6)\n",
      "(1878, 24)\n"
     ]
    }
   ],
   "source": [
    "# 确保所有二维数组具有相同的形状\n",
    "shapes = {data.shape for data in data_list}\n",
    "if len(shapes) > 1:\n",
    "    raise ValueError(\"所有 CSV 文件中的数据形状必须一致\")\n",
    "    \n",
    "dataset=np.array(data_list)\n",
    "print(dataset.shape)\n",
    "dataset = dataset.transpose(1, 0, 2).reshape(1878, -1)\n",
    "print(dataset.shape)"
   ]
  },
  {
   "cell_type": "code",
   "execution_count": 8,
   "metadata": {},
   "outputs": [],
   "source": [
    "import numpy as np\n",
    "import pandas as pd\n",
    "from sklearn.linear_model import Lasso\n",
    "from sklearn.metrics import accuracy_score\n",
    "from sklearn.model_selection import train_test_split\n",
    "from sklearn.preprocessing import StandardScaler\n",
    "from sklearn.linear_model import LogisticRegression\n",
    "import xgboost as xgb"
   ]
  },
  {
   "cell_type": "code",
   "execution_count": 9,
   "metadata": {},
   "outputs": [],
   "source": [
    "targets=(label + 1)/2\n",
    "targets=np.where(targets > 0.5, 1, 0)\n",
    "X_train, X_test, y_train, y_test = train_test_split(dataset, targets, test_size=0.2, random_state=42)"
   ]
  },
  {
   "cell_type": "code",
   "execution_count": 10,
   "metadata": {},
   "outputs": [],
   "source": [
    "scaler = StandardScaler()\n",
    "X_train = scaler.fit_transform(X_train)\n",
    "X_test = scaler.transform(X_test)"
   ]
  },
  {
   "cell_type": "code",
   "execution_count": 11,
   "metadata": {},
   "outputs": [],
   "source": [
    "def asset_exposure_constraint(weights, max_exposure=0.2):\n",
    "    \"\"\"Ensure no asset weight exceeds max_exposure.\"\"\"\n",
    "    return all(abs(w) <= max_exposure for w in weights)\n",
    "\n",
    "def sector_diversification_constraint(weights, sector_mapping, min_sectors=3):\n",
    "    \"\"\"Ensure allocation spans at least min_sectors.\"\"\"\n",
    "    # unique_sectors = set(sector_mapping[np.nonzero(weights)])\n",
    "    # return len(unique_sectors) >= min_sectors\n",
    "    return True\n",
    "\n",
    "def risk_tolerance_constraint(weights, cov_matrix, max_risk=0.05):\n",
    "    \"\"\"Ensure portfolio variance is within max_risk.\"\"\"\n",
    "    portfolio_variance = np.dot(weights.T, np.dot(cov_matrix, weights))\n",
    "    return portfolio_variance <= max_risk\n",
    "\n",
    "def apply_constraints(weights, sector_mapping, cov_matrix, exposure=0.2, sectors=3, risk=0.05):\n",
    "    \"\"\"Check all constraints.\"\"\"\n",
    "    return (\n",
    "        asset_exposure_constraint(weights, exposure) and\n",
    "        sector_diversification_constraint(weights, sector_mapping, sectors) and\n",
    "        risk_tolerance_constraint(weights, cov_matrix, risk)\n",
    "    )"
   ]
  },
  {
   "cell_type": "code",
   "execution_count": 12,
   "metadata": {},
   "outputs": [],
   "source": [
    "# Primary model using XGBoost\n",
    "model = xgb.XGBClassifier(\n",
    "    n_estimators=100,\n",
    "    learning_rate=0.1,\n",
    "    max_depth=3,\n",
    "    objective='binary:logistic',\n",
    "    eval_metric='logloss'\n",
    ")\n",
    "model.fit(X_train, y_train)\n",
    "\n",
    "y_pred_primary = model.predict(X_test)\n",
    "primary_signals = np.where(y_pred_primary > 0.5, 1, 0)\n"
   ]
  },
  {
   "cell_type": "code",
   "execution_count": 13,
   "metadata": {},
   "outputs": [
    {
     "name": "stdout",
     "output_type": "stream",
     "text": [
      "[1 1 0 0 0 0 0 0 1 0 0 0 1 0 0 0 0 1 0 0 0 0 0 0 1 1 0 0 0 1 1 1 0 1 0 1 1\n",
      " 0 0 0 0 0 0 0 1 0 0 0 0 0 0 1 1 0 0 0 1 1 0 1 0 0 0 0 0 0 1 0 0 1 1 1 1 0\n",
      " 0 1 1 0 0 0 0 0 1 0 0 1 0 0 0 0 0 1 0 0 0 0 0 0 0 0 0 0 0 0 0 1 0 1 0 0 0\n",
      " 0 0 0 0 0 0 0 0 0 0 0 1 1 0 0 1 0 0 0 1 0 0 0 1 0 0 0 0 0 0 1 0 1 0 1 0 0\n",
      " 0 0 1 0 0 1 0 1 0 0 1 0 0 0 1 0 0 1 1 1 0 0 1 1 0 0 0 0 1 1 1 0 0 0 0 1 0\n",
      " 1 1 0 1 0 1 0 0 0 1 0 0 1 0 0 0 0 1 1 1 1 0 1 0 0 1 0 0 0 0 0 1 1 0 0 0 0\n",
      " 0 0 0 1 0 1 0 0 1 1 0 0 0 0 0 0 0 0 1 0 0 1 1 0 0 1 0 0 1 0 1 0 1 1 0 0 0\n",
      " 0 0 0 0 1 0 1 0 0 1 1 0 0 0 0 0 0 0 0 0 0 1 0 1 1 0 0 0 1 0 1 0 0 0 1 1 0\n",
      " 0 0 0 0 0 0 0 1 0 0 0 0 0 1 1 0 0 1 0 1 0 0 1 0 1 0 0 0 0 0 0 0 0 0 0 0 0\n",
      " 0 0 1 0 0 0 1 0 0 0 0 0 0 1 0 1 1 0 0 0 0 1 1 1 1 0 0 0 0 0 1 0 0 0 1 0 1\n",
      " 0 1 1 0 1 0]\n",
      "376\n",
      "(376, 24)\n"
     ]
    }
   ],
   "source": [
    "print(primary_signals)\n",
    "print(len(primary_signals))\n",
    "print(X_test.shape)"
   ]
  },
  {
   "cell_type": "code",
   "execution_count": 14,
   "metadata": {},
   "outputs": [],
   "source": [
    "# Create a sample portfolio based on signals\n",
    "def construct_portfolio(signals, asset_returns, sector_mapping, cov_matrix):\n",
    "    \"\"\"Construct a portfolio based on signals and constraints.\"\"\"\n",
    "    weights = np.zeros(len(signals))\n",
    "    for i, signal in enumerate(signals):\n",
    "        if signal == 1:\n",
    "            # Placeholder: Assign random initial weights to activated signals\n",
    "            weights[i] = np.random.uniform(0.01, 0.1)\n",
    "\n",
    "    # Normalize weights\n",
    "    weights /= np.sum(weights)\n",
    "\n",
    "    # Apply constraints\n",
    "    if apply_constraints(weights, sector_mapping, cov_matrix):\n",
    "        return weights\n",
    "    else:\n",
    "        print(\"Constraints not satisfied. Adjust weights.\")\n",
    "        return np.zeros_like(weights)"
   ]
  },
  {
   "cell_type": "code",
   "execution_count": 15,
   "metadata": {},
   "outputs": [
    {
     "name": "stdout",
     "output_type": "stream",
     "text": [
      "(1502, 24)\n",
      "(376,)\n"
     ]
    }
   ],
   "source": [
    "print(X_train.shape)\n",
    "print(y_test.shape)"
   ]
  },
  {
   "cell_type": "code",
   "execution_count": 16,
   "metadata": {},
   "outputs": [
    {
     "name": "stdout",
     "output_type": "stream",
     "text": [
      "(376, 376)\n"
     ]
    }
   ],
   "source": [
    "# Assume asset returns, sector mapping, and covariance matrix as placeholders\n",
    "sector_mapping = np.random.randint(1, 5, size=dataset.shape[1])\n",
    "cov_matrix = np.cov(X_test.T, rowvar=False)\n",
    "asset_returns = np.random.normal(0.01, 0.02, size=dataset.shape[1])\n",
    "\n",
    "print(cov_matrix.shape)"
   ]
  },
  {
   "cell_type": "code",
   "execution_count": 40,
   "metadata": {},
   "outputs": [
    {
     "name": "stdout",
     "output_type": "stream",
     "text": [
      "Final Portfolio Weights:\n",
      " [0.00068031 0.00192611 0.00149309 0.00195334 0.00294488 0.00222184\n",
      " 0.0040369  0.00110553 0.00083872 0.00230944 0.00187249 0.00362808\n",
      " 0.00047518 0.00281967 0.00263548 0.00053906 0.00349345 0.00307582\n",
      " 0.00236444 0.00276705 0.         0.00325941 0.00070166 0.00404094\n",
      " 0.         0.00208616 0.00267303 0.00389284 0.00137226 0.00207303\n",
      " 0.00408057 0.00163531 0.00281927 0.         0.00249416 0.00229038\n",
      " 0.00123476 0.00395871 0.00195374 0.00149998 0.00327844 0.0033919\n",
      " 0.00199469 0.         0.00123714 0.00202243 0.00199716 0.\n",
      " 0.         0.00417236 0.00402034 0.00284357 0.00309126 0.00205606\n",
      " 0.00206663 0.00263195 0.         0.00129788 0.00229598 0.\n",
      " 0.         0.00149862 0.00080799 0.00079115 0.00248606 0.00241641\n",
      " 0.00363469 0.00201482 0.00123717 0.00095109 0.00114721 0.00164904\n",
      " 0.00073522 0.00160664 0.0016509  0.00239636 0.00291934 0.00046301\n",
      " 0.00387485 0.00256337 0.00406958 0.00400874 0.00198528 0.00385523\n",
      " 0.00173083 0.00050906 0.00200858 0.00112787 0.0022364  0.00090437\n",
      " 0.         0.00343269 0.00079383 0.00377674 0.         0.00350428\n",
      " 0.00222158 0.00339484 0.00227691 0.00120955 0.00048021 0.00193456\n",
      " 0.         0.00326473 0.00076451 0.00051933 0.00336213 0.00130926\n",
      " 0.00074144 0.00195995 0.00264585 0.00161814 0.00261428 0.00397297\n",
      " 0.00094741 0.         0.00360587 0.00279126 0.00067595 0.00304748\n",
      " 0.00272528 0.00201729 0.00185313 0.00153896 0.00271225 0.00261078\n",
      " 0.00403659 0.0015584  0.00194796 0.00332207 0.00376859 0.00166589\n",
      " 0.         0.00138938 0.00256698 0.         0.00255089 0.00106213\n",
      " 0.00070675 0.00309622 0.0028606  0.         0.00199064 0.00391937\n",
      " 0.00048902 0.00149215 0.00045458 0.00093525 0.00182552 0.00306918\n",
      " 0.00097706 0.00335591 0.00255599 0.00179073 0.00394042 0.00124363\n",
      " 0.00107499 0.00395694 0.00395676 0.00261696 0.00278861 0.00378439\n",
      " 0.00047887 0.00197446 0.00073191 0.         0.00226095 0.00100242\n",
      " 0.00055179 0.00091549 0.         0.00280139 0.00413676 0.00251031\n",
      " 0.00367196 0.         0.00189252 0.         0.         0.0014733\n",
      " 0.00215202 0.00205824 0.00267307 0.         0.         0.00346659\n",
      " 0.00104109 0.00059653 0.00322373 0.00276867 0.00110089 0.00050297\n",
      " 0.00054795 0.00075747 0.00073936 0.00052858 0.00171303 0.00300738\n",
      " 0.00126027 0.00203775 0.00098744 0.0022226  0.00128562 0.00235458\n",
      " 0.00263992 0.00150541 0.00228236 0.00093956 0.00181099 0.00180368\n",
      " 0.0007414  0.00224864 0.00308618 0.         0.         0.0035441\n",
      " 0.         0.00305849 0.00065128 0.00090824 0.00090026 0.00152602\n",
      " 0.00359535 0.00287699 0.00275325 0.00283601 0.00414577 0.00084692\n",
      " 0.0016181  0.00053709 0.00213446 0.         0.00153117 0.00337776\n",
      " 0.00167959 0.00413617 0.00405806 0.00392861 0.00223599 0.00343391\n",
      " 0.         0.00086603 0.00183684 0.00325978 0.00115736 0.0006072\n",
      " 0.00325089 0.00331659 0.00400837 0.00073969 0.00112268 0.00318779\n",
      " 0.         0.00128869 0.0040996  0.00216526 0.00290088 0.0041013\n",
      " 0.00171467 0.00337576 0.00117341 0.00070125 0.         0.\n",
      " 0.00175327 0.00381212 0.00170723 0.00206305 0.         0.00350999\n",
      " 0.         0.00129881 0.         0.00122338 0.0036655  0.00199986\n",
      " 0.00198073 0.00190256 0.00204091 0.00092335 0.00091213 0.\n",
      " 0.00309329 0.00310164 0.00400725 0.0018792  0.00278417 0.00195279\n",
      " 0.         0.00214584 0.0022412  0.0018943  0.00109541 0.00182089\n",
      " 0.00336772 0.00072984 0.0037279  0.00296027 0.00385304 0.00074095\n",
      " 0.00294498 0.00106527 0.         0.00158796 0.00084131 0.00186005\n",
      " 0.         0.         0.         0.00181506 0.         0.00069554\n",
      " 0.00076142 0.00178995 0.00189457 0.00249224 0.00231347 0.00130705\n",
      " 0.00220324 0.0014856  0.00399667 0.00261226 0.0018623  0.00089155\n",
      " 0.00165875 0.00172325 0.         0.00402589 0.         0.00224426\n",
      " 0.00080205 0.00127048 0.00136637 0.00295186 0.00287345 0.00206769\n",
      " 0.00286392 0.         0.00072565 0.00231812 0.00217457 0.00248349\n",
      " 0.00047812 0.00356049 0.00071104 0.00217566 0.00235855 0.00301727\n",
      " 0.00180599 0.00349314 0.00317392 0.00297984 0.         0.00286144\n",
      " 0.00273558 0.00224189 0.         0.00391021 0.0032512  0.0012546\n",
      " 0.00215869 0.00179678 0.00283473 0.00217005 0.         0.00266682\n",
      " 0.00187879 0.00097832 0.00205365 0.00130992 0.00361655 0.00174294\n",
      " 0.00396487 0.00261194 0.00393677 0.         0.00415982 0.00217511\n",
      " 0.0010777  0.         0.0018435  0.00286679 0.00063402 0.00049658\n",
      " 0.00367244 0.00124122 0.00069165 0.00318587 0.00411366 0.0028221\n",
      " 0.0023853  0.00233752 0.00142133 0.00381627 0.00060762 0.\n",
      " 0.00149097 0.00358675 0.00262026 0.00322883 0.00301833 0.\n",
      " 0.0004292  0.         0.         0.00113859 0.00410323 0.00328035\n",
      " 0.00164542 0.00226888 0.00142166 0.00069525 0.00192709 0.00233224\n",
      " 0.00355828 0.00274206 0.00273286 0.00112045 0.00246864 0.00198234\n",
      " 0.00217168 0.00185679 0.00246555 0.00407418 0.         0.00278767\n",
      " 0.00356042 0.0020453  0.00181714 0.00263435 0.00417236 0.00362069\n",
      " 0.00196449 0.00054786 0.         0.00095644 0.00250119 0.00343126\n",
      " 0.00335564 0.00184448 0.00080037 0.00097761 0.00294541 0.00344392\n",
      " 0.00194738 0.00414652 0.00383898 0.         0.00155103 0.00088431\n",
      " 0.0040063  0.00083751 0.         0.00394919 0.00110677 0.00158543\n",
      " 0.00164014 0.00095998 0.00387931 0.00302907 0.00371871 0.00215606\n",
      " 0.         0.00139611 0.         0.00227168 0.0016805  0.00346731\n",
      " 0.00298535 0.00257726 0.00213873 0.00409251 0.00333144 0.00124949\n",
      " 0.00362451 0.00174674 0.0034616  0.00375066 0.0029124  0.0024963\n",
      " 0.         0.00082967 0.00241459 0.00294286 0.00342312 0.00126342\n",
      " 0.00370101 0.0018519  0.00140443 0.00206392 0.00110721 0.00083005\n",
      " 0.         0.         0.00280116 0.00237863 0.0031026  0.\n",
      " 0.00120024 0.00416263 0.00189657 0.00393063 0.         0.00370857\n",
      " 0.00077219 0.00175555 0.         0.00236232 0.         0.00287395\n",
      " 0.00233284 0.00359458]\n",
      "(512,) 1.0\n"
     ]
    }
   ],
   "source": [
    "final_portfolio_weights = construct_portfolio(primary_signals, asset_returns, sector_mapping, cov_matrix)\n",
    "# Output portfolio weights\n",
    "print(\"Final Portfolio Weights:\\n\", final_portfolio_weights)\n",
    "print(final_portfolio_weights.shape, np.sum(final_portfolio_weights))"
   ]
  },
  {
   "cell_type": "code",
   "execution_count": 20,
   "metadata": {},
   "outputs": [],
   "source": [
    "# Step 3: Develop secondary model (meta-labeling) 二级模型，即meta-labeling\n",
    "# Create meta-labels for secondary model training\n",
    "meta_labels = primary_signals == y_test\n",
    "\n",
    "X_train_meta, X_test_meta, y_train_meta, y_test_meta = train_test_split(\n",
    "    X_test, meta_labels, test_size=0.5, random_state=42\n",
    ")\n",
    "X_test_meta = pd.DataFrame(X_test_meta)\n",
    "\n",
    "\n",
    "# Train and test secondary model (meta-labeling) 训练模型并生成二级信号\n",
    "logistic = LogisticRegression()\n",
    "logistic.fit(X_train_meta, y_train_meta)\n",
    "y_pred_secondary = logistic.predict(X_test_meta)\n",
    "\n",
    "# Step 4: Filtering, denoising, and refining signals 进行信号过滤，生成最终信号\n",
    "refined_signals = primary_signals[X_test_meta.index]\n",
    "refined_signals = refined_signals[y_pred_secondary == 1]\n",
    "\n"
   ]
  },
  {
   "cell_type": "code",
   "execution_count": 21,
   "metadata": {},
   "outputs": [
    {
     "name": "stdout",
     "output_type": "stream",
     "text": [
      "(188,)\n",
      "Length of Refined_signals:\n",
      " 176\n"
     ]
    }
   ],
   "source": [
    "#print(y_pred_secondary)\n",
    "print(y_pred_secondary.shape)\n",
    "#print(primary_signals[X_test_meta.index])\n",
    "#print(\"Refined_signals:\\n\", refined_signals)\n",
    "print(\"Length of Refined_signals:\\n\", len(refined_signals))"
   ]
  }
 ],
 "metadata": {
  "kernelspec": {
   "display_name": "ywc",
   "language": "python",
   "name": "python3"
  },
  "language_info": {
   "codemirror_mode": {
    "name": "ipython",
    "version": 3
   },
   "file_extension": ".py",
   "mimetype": "text/x-python",
   "name": "python",
   "nbconvert_exporter": "python",
   "pygments_lexer": "ipython3",
   "version": "3.12.0"
  }
 },
 "nbformat": 4,
 "nbformat_minor": 2
}
